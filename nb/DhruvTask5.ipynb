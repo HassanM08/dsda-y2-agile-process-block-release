{
 "cells": [
  {
   "cell_type": "markdown",
   "id": "9a543212",
   "metadata": {},
   "source": [
    "# As an operations manager for security at the University of Nottingham, I want to know the number of bike thefts over the summer months in 2022 (July, August, September) at both University Park campus and Jubilee Campus so that I can appropriately allocate security officers to each location."
   ]
  },
  {
   "cell_type": "code",
   "execution_count": 7,
   "id": "b6d4f302-3243-4a85-8e86-45ffa3b66dcb",
   "metadata": {
    "tags": []
   },
   "outputs": [],
   "source": [
    "import pandas as pd\n",
    "import requests"
   ]
  },
  {
   "cell_type": "markdown",
   "id": "ef2764d3-9668-42c4-a0c7-18f2b849f1bb",
   "metadata": {
    "tags": []
   },
   "source": [
    "## Locations"
   ]
  },
  {
   "cell_type": "code",
   "execution_count": 8,
   "id": "a0d51268-a911-4300-ba82-ddbfa96f9e36",
   "metadata": {
    "tags": []
   },
   "outputs": [],
   "source": [
    "# coordinates are latitude, longitude pairs\n",
    "LOCATION_UNIVERSITY_PARK = (52.93726647677705, -1.1959384006396074)\n",
    "LOCATION_JUBILEE_CAMPUS = (52.95232635429298, -1.1862643609249397)\n",
    "LOCATION_NOTTINGHAM_CITY_CENTRE = (52.953, -1.149)"
   ]
  },
  {
   "cell_type": "markdown",
   "id": "092caed0-a70a-4fbc-92c1-345bc2a33dc2",
   "metadata": {},
   "source": [
    "## API\n",
    "\n",
    "You will need to add more API URLs here as needed to complete the stories."
   ]
  },
  {
   "cell_type": "code",
   "execution_count": 9,
   "id": "a1b208a0-88d8-48e6-bcdd-c2001d3dbdee",
   "metadata": {
    "tags": []
   },
   "outputs": [],
   "source": [
    "API_STREET_CRIME = \"https://data.police.uk/api/crimes-street/\""
   ]
  },
  {
   "cell_type": "markdown",
   "id": "e0aa343a-c9c9-41d5-80bc-17a71d639a6c",
   "metadata": {},
   "source": [
    "## Crimes Near University Park Campus\n",
    "\n",
    "Example function which calculates the number of crimes within 1 mile of University Park campus."
   ]
  },
  {
   "cell_type": "code",
   "execution_count": 11,
   "id": "76e22400-1d34-4ac0-bf4f-51723ccf1c38",
   "metadata": {
    "tags": []
   },
   "outputs": [],
   "source": [
    "def count_bike_thefts(\n",
    "    lat: float, lon: float, year: int, month: int\n",
    ") -> int:\n",
    "    \"\"\"Calculate number of crimes within 1 mile of a location for a date.\n",
    "\n",
    "    Args:\n",
    "        lat (float): Latitude of the location.\n",
    "        lon (float): Longitude of the location.\n",
    "        year (int): Year to find crimes.\n",
    "        month (int): Month of the provided year to find crimes.\n",
    "\n",
    "    Returns:\n",
    "        int: Count of the crimes\n",
    "    \"\"\"\n",
    "    url = (\n",
    "        API_STREET_CRIME + f\"all-crime?lat={lat}&lng={lon}&date={year}-{month}\"\n",
    "    )\n",
    "    response = requests.get(url)\n",
    "    if response.status_code == 200:\n",
    "        return response.json()\n",
    "    else:\n",
    "        print(f\"Error retrieving data: {response.status_code}\")\n",
    "\n",
    "\n",
    "#print(count_crimes_within_1_mile(*LOCATION_UNIVERSITY_PARK, 2023, 1))"
   ]
  },
  {
   "cell_type": "code",
   "execution_count": 54,
   "id": "2a24aba1",
   "metadata": {},
   "outputs": [],
   "source": [
    "july_count_jubilee  = count_bike_thefts(*LOCATION_JUBILEE_CAMPUS, 2022, 7)\n",
    "july_bike_crimes_jubilee = [\n",
    "        crime for crime in july_count_jubilee if crime[\"category\"] == \"bicycle-theft\"\n",
    "    ]\n",
    "\n",
    "\n",
    "aug_count_jubilee  = count_bike_thefts(*LOCATION_JUBILEE_CAMPUS, 2022, 8)\n",
    "aug_bike_crimes_jubilee = [\n",
    "        crime for crime in aug_count_jubilee if crime[\"category\"] == \"bicycle-theft\"\n",
    "    ]\n",
    "\n",
    "\n",
    "sept_count_jubilee  = count_bike_thefts(*LOCATION_JUBILEE_CAMPUS, 2022, 9)\n",
    "sept_bike_crimes_jubilee = [\n",
    "        crime for crime in sept_count_jubilee if crime[\"category\"] == \"bicycle-theft\"\n",
    "    ]"
   ]
  },
  {
   "cell_type": "code",
   "execution_count": 55,
   "id": "88d0d18f",
   "metadata": {},
   "outputs": [],
   "source": [
    "july_count  = count_bike_thefts(*LOCATION_UNIVERSITY_PARK, 2022, 7)\n",
    "july_bike_crimes = [\n",
    "        crime for crime in july_count if crime[\"category\"] == \"bicycle-theft\"\n",
    "    ]\n",
    "\n",
    "\n",
    "aug_count  = count_bike_thefts(*LOCATION_UNIVERSITY_PARK, 2022, 8)\n",
    "aug_bike_crimes = [\n",
    "        crime for crime in aug_count if crime[\"category\"] == \"bicycle-theft\"\n",
    "    ]\n",
    "\n",
    "\n",
    "sept_count  = count_bike_thefts(*LOCATION_UNIVERSITY_PARK, 2022, 9)\n",
    "sept_bike_crimes = [\n",
    "        crime for crime in sept_count if crime[\"category\"] == \"bicycle-theft\"\n",
    "    ]"
   ]
  },
  {
   "cell_type": "code",
   "execution_count": 56,
   "id": "b8095a44",
   "metadata": {},
   "outputs": [
    {
     "name": "stdout",
     "output_type": "stream",
     "text": [
      "The number of bicyle-thefts in July 2022 at University Park Campus is: 4\n",
      "The number of bicyle-thefts in August 2022 at University Park Campus is: 7\n",
      "The number of bicyle-thefts in Sept 2022 at University Park Campus is: 8\n",
      "The number of bicyle-thefts in July 2022 at Jubilee Campus is: 5\n",
      "The number of bicyle-thefts in August 2022 at Jubilee Campus is: 10\n",
      "The number of bicyle-thefts in Sept 2022 at Jubilee Cammpus is: 15\n"
     ]
    }
   ],
   "source": [
    "print(\"The number of bicyle-thefts in July 2022 at University Park Campus is:\", len(july_bike_crimes))\n",
    "print(\"The number of bicyle-thefts in August 2022 at University Park Campus is:\", len(aug_bike_crimes))\n",
    "print(\"The number of bicyle-thefts in Sept 2022 at University Park Campus is:\", len(sept_bike_crimes))\n",
    "\n",
    "print(\"The number of bicyle-thefts in July 2022 at Jubilee Campus is:\", len(july_bike_crimes_jubilee))\n",
    "print(\"The number of bicyle-thefts in August 2022 at Jubilee Campus is:\", len(aug_bike_crimes_jubilee))\n",
    "print(\"The number of bicyle-thefts in Sept 2022 at Jubilee Cammpus is:\", len(sept_bike_crimes_jubilee))"
   ]
  },
  {
   "cell_type": "code",
   "execution_count": null,
   "id": "01bb9939",
   "metadata": {},
   "outputs": [],
   "source": []
  }
 ],
 "metadata": {
  "kernelspec": {
   "display_name": "Python 3 (ipykernel)",
   "language": "python",
   "name": "python3"
  },
  "language_info": {
   "codemirror_mode": {
    "name": "ipython",
    "version": 3
   },
   "file_extension": ".py",
   "mimetype": "text/x-python",
   "name": "python",
   "nbconvert_exporter": "python",
   "pygments_lexer": "ipython3",
   "version": "3.9.12"
  }
 },
 "nbformat": 4,
 "nbformat_minor": 5
}
