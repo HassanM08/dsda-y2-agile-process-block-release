{
 "cells": [
  {
   "cell_type": "markdown",
   "id": "bf23d394-64a0-4189-8c56-70a778797a91",
   "metadata": {},
   "source": [
    "# Block Release\n",
    "\n",
    "This notebook contains the skeleton of the code to be used for the tasks."
   ]
  },
  {
   "cell_type": "markdown",
   "id": "dd126b81-5c5d-402f-be13-0849c5f0645f",
   "metadata": {},
   "source": [
    "## Imports"
   ]
  },
  {
   "cell_type": "code",
   "execution_count": 1,
   "id": "b6d4f302-3243-4a85-8e86-45ffa3b66dcb",
   "metadata": {
    "tags": []
   },
   "outputs": [],
   "source": [
    "import pandas as pd\n",
    "import requests"
   ]
  },
  {
   "cell_type": "markdown",
   "id": "ef2764d3-9668-42c4-a0c7-18f2b849f1bb",
   "metadata": {
    "tags": []
   },
   "source": [
    "## Locations"
   ]
  },
  {
   "cell_type": "code",
   "execution_count": 2,
   "id": "a0d51268-a911-4300-ba82-ddbfa96f9e36",
   "metadata": {
    "tags": []
   },
   "outputs": [],
   "source": [
    "# coordinates are latitude, longitude pairs\n",
    "LOCATION_UNIVERSITY_PARK = (52.93726647677705, -1.1959384006396074)\n",
    "LOCATION_JUBILEE_CAMPUS = (52.95232635429298, -1.1862643609249397)\n",
    "LOCATION_NOTTINGHAM_CITY_CENTRE = (52.953, -1.149)"
   ]
  },
  {
   "cell_type": "markdown",
   "id": "092caed0-a70a-4fbc-92c1-345bc2a33dc2",
   "metadata": {},
   "source": [
    "## API\n",
    "\n",
    "You will need to add more API URLs here as needed to complete the stories."
   ]
  },
  {
   "cell_type": "code",
   "execution_count": 9,
   "id": "a1b208a0-88d8-48e6-bcdd-c2001d3dbdee",
   "metadata": {
    "tags": []
   },
   "outputs": [],
   "source": [
    "API_STREET_CRIME = \"https://data.police.uk/api/crimes-street/\""
   ]
  },
  {
   "cell_type": "markdown",
   "id": "e0aa343a-c9c9-41d5-80bc-17a71d639a6c",
   "metadata": {},
   "source": [
    "## Crimes Near University Park Campus\n",
    "\n",
    "Example function which calculates the number of crimes within 1 mile of University Park campus."
   ]
  },
  {
   "cell_type": "code",
   "execution_count": 16,
   "id": "76e22400-1d34-4ac0-bf4f-51723ccf1c38",
   "metadata": {
    "tags": []
   },
   "outputs": [
    {
     "name": "stdout",
     "output_type": "stream",
     "text": [
      "155\n"
     ]
    }
   ],
   "source": [
    "# GA: The story required getting values without location, but it doesn't seem like the API works for that\n",
    "# So I just did it for within 1 mile of nottingham\n",
    "\n",
    "def count_crimes_within_1_mile(\n",
    "    lat: float, lon: float, year: int, month: int, cat: str\n",
    ") -> int:\n",
    "    \"\"\"Calculate number of crimes within 1 mile of a location for a date.\n",
    "\n",
    "    Args:\n",
    "        lat (float): Latitude of the location.\n",
    "        lon (float): Longitude of the location.\n",
    "        year (int): Year to find crimes.\n",
    "        month (int): Month of the provided year to find crimes.\n",
    "        cat (str): category of crime\n",
    "\n",
    "    Returns:\n",
    "        int: Count of the crimes\n",
    "    \"\"\"\n",
    "    url = (\n",
    "        API_STREET_CRIME + f\"{cat}?lat={lat}&lng={lon}&date={year}-{month}\"\n",
    "    )\n",
    "    response = requests.get(url)\n",
    "    if response.status_code == 200:\n",
    "        return len(response.json())\n",
    "    else:\n",
    "        print(f\"Error retrieving data: {response.status_code}\")\n",
    "\n",
    "\n",
    "print(count_crimes_within_1_mile(*LOCATION_UNIVERSITY_PARK, 2022, 12, \"violent_crime\"))"
   ]
  },
  {
   "cell_type": "code",
   "execution_count": 17,
   "id": "ce3e18f8",
   "metadata": {},
   "outputs": [],
   "source": [
    "violent_count_22 = count_crimes_within_1_mile(*LOCATION_UNIVERSITY_PARK, 2022, 12, \"violent_crime\")\n",
    "violent_count_21 = count_crimes_within_1_mile(*LOCATION_UNIVERSITY_PARK, 2021, 12, \"violent_crime\")\n",
    "violent_count_20 = count_crimes_within_1_mile(*LOCATION_UNIVERSITY_PARK, 2020, 12, \"violent_crime\")"
   ]
  },
  {
   "cell_type": "code",
   "execution_count": 26,
   "id": "eb63f87c",
   "metadata": {},
   "outputs": [],
   "source": [
    "data = {\"2020\" : [violent_count_20], \"2021\" : [violent_count_21], \"2022\" : [violent_count_22]}"
   ]
  },
  {
   "cell_type": "code",
   "execution_count": 28,
   "id": "af08f397",
   "metadata": {},
   "outputs": [],
   "source": [
    "df = pd.DataFrame.from_dict(data)"
   ]
  },
  {
   "cell_type": "code",
   "execution_count": 36,
   "id": "0fd9c039",
   "metadata": {},
   "outputs": [],
   "source": [
    "df_melt = df.melt()"
   ]
  },
  {
   "cell_type": "code",
   "execution_count": 42,
   "id": "f26ab002",
   "metadata": {},
   "outputs": [
    {
     "data": {
      "text/plain": [
       "<AxesSubplot:xlabel='variable'>"
      ]
     },
     "execution_count": 42,
     "metadata": {},
     "output_type": "execute_result"
    },
    {
     "data": {
      "image/png": "[encoded data removed]",
      "text/plain": [
       "<Figure size 640x480 with 1 Axes>"
      ]
     },
     "metadata": {},
     "output_type": "display_data"
    }
   ],
   "source": [
    "df_melt.plot.bar(x = 'variable', y = 'value')"
   ]
  },
  {
   "cell_type": "code",
   "execution_count": null,
   "id": "3ea9a7ac",
   "metadata": {},
   "outputs": [],
   "source": []
  }
 ],
 "metadata": {
  "kernelspec": {
   "display_name": "Python 3 (ipykernel)",
   "language": "python",
   "name": "python3"
  },
  "language_info": {
   "codemirror_mode": {
    "name": "ipython",
    "version": 3
   },
   "file_extension": ".py",
   "mimetype": "text/x-python",
   "name": "python",
   "nbconvert_exporter": "python",
   "pygments_lexer": "ipython3",
   "version": "3.8.16"
  }
 },
 "nbformat": 4,
 "nbformat_minor": 5
}
